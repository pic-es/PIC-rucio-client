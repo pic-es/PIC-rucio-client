{
 "cells": [
  {
   "cell_type": "code",
   "execution_count": 2,
   "metadata": {},
   "outputs": [],
   "source": [
    "from __future__ import absolute_import, division, print_function\n",
    "\n",
    "__author__ = \"Agustin Bruzzese\"\n",
    "__copyright__ = \"Copyright (C) 2020 Agustin Bruzzese\"\n",
    "\n",
    "__revision__ = \"$Id$\"\n",
    "__version__ = \"0.2\"\n",
    "\n",
    "import sys\n",
    "sys.path.append(\"/usr/lib64/python3.6/site-packages/\")\n",
    "\n",
    "import io,json,linecache,logging,os,os.path,random,re,time,uuid,zipfile,string,pathlib,time,pytz,graphyte,socket\n",
    "import numpy as np \n",
    "from urllib.parse import urlunsplit\n",
    "\n",
    "from io import StringIO\n",
    "\n",
    "# Set Rucio virtual environment configuration \n",
    "os.environ['RUCIO_HOME']=os.path.expanduser('~/rucio')\n",
    "from rucio.rse import rsemanager as rsemgr\n",
    "from rucio.client.client import Client\n",
    "from rucio.client.didclient import DIDClient\n",
    "from rucio.client.replicaclient import ReplicaClient\n",
    "import rucio.rse.rsemanager as rsemgr\n",
    "from rucio.client.ruleclient import RuleClient\n",
    "from rucio.common.utils import (adler32, detect_client_location, \n",
    "                                execute, generate_uuid, md5, \n",
    "                                send_trace, GLOBALLY_SUPPORTED_CHECKSUMS)\n",
    "from rucio.common.exception import (AccountNotFound, Duplicate, RucioException, DuplicateRule, InvalidObject, DataIdentifierAlreadyExists, FileAlreadyExists, RucioException,\n",
    "                                    AccessDenied, InsufficientAccountLimit, RuleNotFound, AccessDenied, InvalidRSEExpression,\n",
    "                                    InvalidReplicationRule, RucioException, DataIdentifierNotFound, InsufficientTargetRSEs,\n",
    "                                    ReplicationRuleCreationTemporaryFailed, InvalidRuleWeight, StagingAreaRuleRequiresLifetime)\n",
    "\n",
    "\n",
    "import gfal2\n",
    "from gfal2 import (\n",
    "    Gfal2Context,\n",
    "    GError,\n",
    ")\n",
    "\n"
   ]
  },
  {
   "cell_type": "code",
   "execution_count": 3,
   "metadata": {},
   "outputs": [
    {
     "name": "stderr",
     "output_type": "stream",
     "text": [
      "INFO:gfal2:[gfal_module_load] plugin /usr/lib64/gfal2-plugins//libgfal_plugin_xrootd.so loaded with success \n",
      "INFO:gfal2:[gfal_module_load] plugin /usr/lib64/gfal2-plugins//libgfal_plugin_sftp.so loaded with success \n",
      "INFO:gfal2:[gfal_module_load] plugin /usr/lib64/gfal2-plugins//libgfal_plugin_dcap.so loaded with success \n",
      "INFO:gfal2:[gfal_module_load] plugin /usr/lib64/gfal2-plugins//libgfal_plugin_lfc.so loaded with success \n",
      "INFO:gfal2:[gfal_module_load] plugin /usr/lib64/gfal2-plugins//libgfal_plugin_file.so loaded with success \n"
     ]
    },
    {
     "name": "stdout",
     "output_type": "stream",
     "text": [
      "{'updated_at': '2021-02-09T08:35:10', 'deleted_at': None, 'suspended_at': None, 'status': 'ACTIVE', 'account': 'root', 'created_at': '2021-02-09T08:35:10', 'email': None, 'account_type': 'SERVICE'}\n",
      "{'version': '1.24.2'}\n"
     ]
    },
    {
     "name": "stderr",
     "output_type": "stream",
     "text": [
      "INFO:gfal2:[gfal_module_load] plugin /usr/lib64/gfal2-plugins//libgfal_plugin_gridftp.so loaded with success \n",
      "INFO:gfal2:[gfal_module_load] plugin /usr/lib64/gfal2-plugins//libgfal_plugin_srm.so loaded with success \n",
      "INFO:gfal2:Davix: Unable to find a proxy or cert/key pair using either X509_USER_* variables or /tmp/x509up_u63770\n",
      "INFO:gfal2:[gfal_module_load] plugin /usr/lib64/gfal2-plugins//libgfal_plugin_http.so loaded with success \n",
      "INFO:gfal2:[gfal_module_load] plugin /usr/lib64/gfal2-plugins//libgfal_plugin_rfio.so loaded with success \n"
     ]
    }
   ],
   "source": [
    "# Rucio settings \n",
    "\n",
    "account='root'\n",
    "auth_type='x509_proxy'\n",
    "\n",
    "# account=account, auth_type=auth_type\n",
    "CLIENT = Client(account=account)\n",
    "didc = DIDClient(account=account)\n",
    "repc = ReplicaClient(account=account)\n",
    "client = Client(account=account)\n",
    "\n",
    "print(json.dumps(client.whoami(), indent=4, sort_keys=True))\n",
    "print(json.dumps(client.ping(), indent=4, sort_keys=True))\n",
    "\n",
    "# Gfal settings \n",
    "gfal = Gfal2Context()\n"
   ]
  },
  {
   "cell_type": "code",
   "execution_count": null,
   "metadata": {},
   "outputs": [],
   "source": []
  }
 ],
 "metadata": {
  "kernelspec": {
   "display_name": "rucio",
   "language": "python",
   "name": "rucio"
  },
  "language_info": {
   "codemirror_mode": {
    "name": "ipython",
    "version": 3
   },
   "file_extension": ".py",
   "mimetype": "text/x-python",
   "name": "python",
   "nbconvert_exporter": "python",
   "pygments_lexer": "ipython3",
   "version": "3.6.8"
  }
 },
 "nbformat": 4,
 "nbformat_minor": 4
}
